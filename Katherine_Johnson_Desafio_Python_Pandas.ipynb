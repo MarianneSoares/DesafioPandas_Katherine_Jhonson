{
  "nbformat": 4,
  "nbformat_minor": 0,
  "metadata": {
    "colab": {
      "provenance": [],
      "toc_visible": true
    },
    "kernelspec": {
      "name": "python3",
      "display_name": "Python 3"
    },
    "language_info": {
      "name": "python"
    }
  },
  "cells": [
    {
      "cell_type": "markdown",
      "source": [
        "# **Desafio Python Pandas**\n",
        "## Squad Katherine Jonhson\n",
        "Integrantes:\n",
        "1.  Alice Dos Santos Araújo Lourenço\n",
        "2.  Andressa Lourenço Da Rocha\n",
        "3.  Claudia Oliveira\n",
        "4.  Eveline Teles Maduro\n",
        "5.  Jaqueline Rocha Otero\n",
        "6.  Marianne Soares Barbosa\n",
        "7.  Marina Carvalho de Medeiros\n",
        "8.  Micaella Corrêa Dos Santos Guimarães\n",
        "9.  Pâmela Taiane Amorim Rêgo\n",
        "10. Tsad Martins Borges"
      ],
      "metadata": {
        "id": "zlMRXoI1QJod"
      }
    },
    {
      "cell_type": "code",
      "source": [
        "pip install pydataset"
      ],
      "metadata": {
        "id": "kcH2s98OVy7M",
        "colab": {
          "base_uri": "https://localhost:8080/"
        },
        "outputId": "a5ece0ec-8524-4fac-a264-78b36c1dd22f"
      },
      "execution_count": null,
      "outputs": [
        {
          "output_type": "stream",
          "name": "stdout",
          "text": [
            "Collecting pydataset\n",
            "  Downloading pydataset-0.2.0.tar.gz (15.9 MB)\n",
            "\u001b[2K     \u001b[90m━━━━━━━━━━━━━━━━━━━━━━━━━━━━━━━━━━━━━━━━\u001b[0m \u001b[32m15.9/15.9 MB\u001b[0m \u001b[31m51.7 MB/s\u001b[0m eta \u001b[36m0:00:00\u001b[0m\n",
            "\u001b[?25h  Preparing metadata (setup.py) ... \u001b[?25l\u001b[?25hdone\n",
            "Requirement already satisfied: pandas in /usr/local/lib/python3.10/dist-packages (from pydataset) (1.5.3)\n",
            "Requirement already satisfied: python-dateutil>=2.8.1 in /usr/local/lib/python3.10/dist-packages (from pandas->pydataset) (2.8.2)\n",
            "Requirement already satisfied: pytz>=2020.1 in /usr/local/lib/python3.10/dist-packages (from pandas->pydataset) (2023.4)\n",
            "Requirement already satisfied: numpy>=1.21.0 in /usr/local/lib/python3.10/dist-packages (from pandas->pydataset) (1.25.2)\n",
            "Requirement already satisfied: six>=1.5 in /usr/local/lib/python3.10/dist-packages (from python-dateutil>=2.8.1->pandas->pydataset) (1.16.0)\n",
            "Building wheels for collected packages: pydataset\n",
            "  Building wheel for pydataset (setup.py) ... \u001b[?25l\u001b[?25hdone\n",
            "  Created wheel for pydataset: filename=pydataset-0.2.0-py3-none-any.whl size=15939416 sha256=3d43828a63d25bfa7a7833c54ea72f23d91afb99a3df01b129571828a294be94\n",
            "  Stored in directory: /root/.cache/pip/wheels/2b/83/5c/073c3755e8b7704e4677557b2055e61026c1a2342149214c13\n",
            "Successfully built pydataset\n",
            "Installing collected packages: pydataset\n",
            "Successfully installed pydataset-0.2.0\n"
          ]
        }
      ]
    },
    {
      "cell_type": "code",
      "source": [
        "from pydataset import data"
      ],
      "metadata": {
        "id": "oOyTnP7OU6md",
        "colab": {
          "base_uri": "https://localhost:8080/"
        },
        "outputId": "45462610-3354-449c-d16a-ef88d6244536"
      },
      "execution_count": null,
      "outputs": [
        {
          "output_type": "stream",
          "name": "stdout",
          "text": [
            "initiated datasets repo at: /root/.pydataset/\n"
          ]
        }
      ]
    },
    {
      "cell_type": "code",
      "source": [
        "#importando datasets\n",
        "\n",
        "plant_traits = data('plantTraits') #desafio 1\n",
        "women = data('women') #desafio 2\n",
        "titanic = data('titanic')  #desafio 3\n",
        "bundesliga = data('Bundesliga')  #desafio 4\n",
        "forbes = data('Forbes2000')  #desafio 5\n"
      ],
      "metadata": {
        "id": "PQhQyupzUTQd"
      },
      "execution_count": null,
      "outputs": []
    },
    {
      "cell_type": "markdown",
      "source": [
        "# Desafio 1 (Pâmela Taiane e Alice Dos Santos)"
      ],
      "metadata": {
        "id": "dvjRZXmWQv-9"
      }
    },
    {
      "cell_type": "markdown",
      "source": [
        "## 1. Importe o dataset utilizando a seguinte função do pydataset: data(“Código”) + 2. Imprimir na tela o dataset:\n"
      ],
      "metadata": {
        "id": "IH9hXOOoMhkG"
      }
    },
    {
      "cell_type": "code",
      "source": [
        "# Importando a biblioteca pydataset\n",
        "import pydataset\n",
        "\n",
        "# Carregando o dataset 'plantTraits' e imprimindo o dataset na tela\n",
        "data = pydataset.data('plantTraits')\n",
        "\n",
        "print(data)"
      ],
      "metadata": {
        "id": "W8PWQB4ReDyN"
      },
      "execution_count": null,
      "outputs": []
    },
    {
      "cell_type": "code",
      "source": [],
      "metadata": {
        "id": "JkJJks62eExR"
      },
      "execution_count": null,
      "outputs": []
    },
    {
      "cell_type": "markdown",
      "source": [
        "## 3. Informe o tipo de dados retornado pela função data:"
      ],
      "metadata": {
        "id": "7fARWKdmNfGs"
      }
    },
    {
      "cell_type": "code",
      "source": [
        "# Informações sobre o tipo de dados retornado pela função data\n",
        "print(\"Tipo de dados retornado pela função data:\", type(data))"
      ],
      "metadata": {
        "colab": {
          "base_uri": "https://localhost:8080/"
        },
        "id": "cWyXqm0UN-w_",
        "outputId": "f76c7573-569c-4bd9-be16-cbc343c1dd7e"
      },
      "execution_count": null,
      "outputs": [
        {
          "output_type": "stream",
          "name": "stdout",
          "text": [
            "Tipo de dados retornado pela função data: <class 'pandas.core.frame.DataFrame'>\n"
          ]
        }
      ]
    },
    {
      "cell_type": "markdown",
      "source": [
        "## 4. Informe o número de exemplos (linhas) e características (colunas) do dataset:"
      ],
      "metadata": {
        "id": "d76cBCgfOMC_"
      }
    },
    {
      "cell_type": "code",
      "source": [
        "# Informações sobre o número de exemplos (linhas) e características (colunas) do dataset\n",
        "print(\"Número de exemplos (linhas):\", data.shape[0])\n",
        "print(\"Número de características (colunas):\", data.shape[1])"
      ],
      "metadata": {
        "colab": {
          "base_uri": "https://localhost:8080/"
        },
        "id": "JgEubj98OcyX",
        "outputId": "a05f6c61-6416-4378-a9c4-72afc13178f0"
      },
      "execution_count": null,
      "outputs": [
        {
          "output_type": "stream",
          "name": "stdout",
          "text": [
            "Número de exemplos (linhas): 136\n",
            "Número de características (colunas): 31\n"
          ]
        }
      ]
    },
    {
      "cell_type": "markdown",
      "source": [
        "## 5. Crie uma função que ao receber um DataFrame retorna o número de linhas e colunas:"
      ],
      "metadata": {
        "id": "5ZTUQAvFOk9i"
      }
    },
    {
      "cell_type": "code",
      "source": [
        "# Função que retorna o número de linhas e colunas de um DataFrame\n",
        "def informacoes_dataset(df):\n",
        "    return (df.shape[0], df.shape[1])\n",
        "\n",
        "# Imprimindo as informações do dataset\n",
        "print(\"Informações do dataset:\", informacoes_dataset(data))"
      ],
      "metadata": {
        "colab": {
          "base_uri": "https://localhost:8080/"
        },
        "id": "ePgqeWMoOt-S",
        "outputId": "4b49eaf9-53fe-4bb5-ed2b-9d6dd228122c"
      },
      "execution_count": null,
      "outputs": [
        {
          "output_type": "stream",
          "name": "stdout",
          "text": [
            "Informações do dataset: (136, 31)\n"
          ]
        }
      ]
    },
    {
      "cell_type": "markdown",
      "source": [
        "# Desafio 2 (Andressa Rocha e Jaqueline Rocha)"
      ],
      "metadata": {
        "id": "45CIHG9yd_9C"
      }
    },
    {
      "cell_type": "markdown",
      "source": [
        "1. Construa uma nova representação onde os nomes das colunas\n",
        "estão em português, e os valores de altura são convertidos para\n",
        "centímetros e os valores de peso convertidos para quilograma."
      ],
      "metadata": {
        "id": "AkqBKLESdmvQ"
      }
    },
    {
      "cell_type": "code",
      "source": [
        "women.info()"
      ],
      "metadata": {
        "id": "tqN_8GoXRHCM",
        "colab": {
          "base_uri": "https://localhost:8080/"
        },
        "outputId": "93d46017-ede7-4498-da5e-3cf6c5bbe342"
      },
      "execution_count": null,
      "outputs": [
        {
          "output_type": "stream",
          "name": "stdout",
          "text": [
            "<class 'pandas.core.frame.DataFrame'>\n",
            "Int64Index: 15 entries, 1 to 15\n",
            "Data columns (total 2 columns):\n",
            " #   Column  Non-Null Count  Dtype\n",
            "---  ------  --------------  -----\n",
            " 0   height  15 non-null     int64\n",
            " 1   weight  15 non-null     int64\n",
            "dtypes: int64(2)\n",
            "memory usage: 360.0 bytes\n"
          ]
        }
      ]
    },
    {
      "cell_type": "code",
      "source": [
        "print(women.columns)"
      ],
      "metadata": {
        "colab": {
          "base_uri": "https://localhost:8080/"
        },
        "id": "WADVo5Vt21cm",
        "outputId": "56a624f7-6b99-4561-a48b-4915739d0e08"
      },
      "execution_count": null,
      "outputs": [
        {
          "output_type": "stream",
          "name": "stdout",
          "text": [
            "Index(['height', 'weight', 'altura', 'peso'], dtype='object')\n"
          ]
        }
      ]
    },
    {
      "cell_type": "code",
      "source": [
        "women['altura'] = women['height'] * 2.54"
      ],
      "metadata": {
        "id": "JJF8HlwoYHwE"
      },
      "execution_count": null,
      "outputs": []
    },
    {
      "cell_type": "code",
      "source": [
        "altura_data = women['altura']"
      ],
      "metadata": {
        "id": "Z7taT2u6YHsA"
      },
      "execution_count": null,
      "outputs": []
    },
    {
      "cell_type": "code",
      "source": [
        "print(\"Altura (cm)\")\n",
        "print(altura_data)"
      ],
      "metadata": {
        "colab": {
          "base_uri": "https://localhost:8080/"
        },
        "id": "Xn1gVfWmc6CF",
        "outputId": "b6ec81c2-be50-40fe-8cf4-4046a0a81bb8"
      },
      "execution_count": null,
      "outputs": [
        {
          "output_type": "stream",
          "name": "stdout",
          "text": [
            "Altura (cm)\n",
            "1     147.32\n",
            "2     149.86\n",
            "3     152.40\n",
            "4     154.94\n",
            "5     157.48\n",
            "6     160.02\n",
            "7     162.56\n",
            "8     165.10\n",
            "9     167.64\n",
            "10    170.18\n",
            "11    172.72\n",
            "12    175.26\n",
            "13    177.80\n",
            "14    180.34\n",
            "15    182.88\n",
            "Name: altura, dtype: float64\n"
          ]
        }
      ]
    },
    {
      "cell_type": "code",
      "source": [
        "women['peso'] = women['weight'] * 0.45"
      ],
      "metadata": {
        "id": "J84pZs37c8o2"
      },
      "execution_count": null,
      "outputs": []
    },
    {
      "cell_type": "code",
      "source": [
        "peso_data = women['peso']"
      ],
      "metadata": {
        "id": "8vS5n4dic_2_"
      },
      "execution_count": null,
      "outputs": []
    },
    {
      "cell_type": "code",
      "source": [
        "print(\"Peso (kg)\")\n",
        "print(peso_data)"
      ],
      "metadata": {
        "colab": {
          "base_uri": "https://localhost:8080/"
        },
        "id": "56j0TmYWdE1k",
        "outputId": "2889ec15-9fd6-4bb0-c013-b7972a90cf7c"
      },
      "execution_count": null,
      "outputs": [
        {
          "output_type": "stream",
          "name": "stdout",
          "text": [
            "Peso (kg)\n",
            "1     51.75\n",
            "2     52.65\n",
            "3     54.00\n",
            "4     55.35\n",
            "5     56.70\n",
            "6     58.05\n",
            "7     59.40\n",
            "8     60.75\n",
            "9     62.55\n",
            "10    63.90\n",
            "11    65.70\n",
            "12    67.50\n",
            "13    69.30\n",
            "14    71.55\n",
            "15    73.80\n",
            "Name: peso, dtype: float64\n"
          ]
        }
      ]
    },
    {
      "cell_type": "code",
      "source": [
        "data = {'altura_cm': altura_data, 'peso_kg': peso_data}"
      ],
      "metadata": {
        "id": "OL_faXtrdJ78"
      },
      "execution_count": null,
      "outputs": []
    },
    {
      "cell_type": "code",
      "source": [
        "import numpy as np"
      ],
      "metadata": {
        "id": "T8cQsENXdM22"
      },
      "execution_count": null,
      "outputs": []
    },
    {
      "cell_type": "code",
      "source": [
        "women_data = np.array(list(data.values()))"
      ],
      "metadata": {
        "id": "hIXnYBRudOzL"
      },
      "execution_count": null,
      "outputs": []
    },
    {
      "cell_type": "code",
      "source": [
        "print(women_data)"
      ],
      "metadata": {
        "colab": {
          "base_uri": "https://localhost:8080/"
        },
        "id": "TbXb0kfydTB5",
        "outputId": "632959e8-0281-468e-d281-aa2d75ef79e6"
      },
      "execution_count": null,
      "outputs": [
        {
          "output_type": "stream",
          "name": "stdout",
          "text": [
            "[[147.32 149.86 152.4  154.94 157.48 160.02 162.56 165.1  167.64 170.18\n",
            "  172.72 175.26 177.8  180.34 182.88]\n",
            " [ 51.75  52.65  54.    55.35  56.7   58.05  59.4   60.75  62.55  63.9\n",
            "   65.7   67.5   69.3   71.55  73.8 ]]\n"
          ]
        }
      ]
    },
    {
      "cell_type": "markdown",
      "source": [
        "2. Plote o scatterplot de altura x peso da nova representação."
      ],
      "metadata": {
        "id": "wt7jnZP3eOdq"
      }
    },
    {
      "cell_type": "code",
      "source": [
        "import matplotlib.pyplot as plt"
      ],
      "metadata": {
        "id": "gGKklhQ5eQ_b"
      },
      "execution_count": null,
      "outputs": []
    },
    {
      "cell_type": "code",
      "source": [
        "plt.figure(figsize=(8, 6))\n",
        "plt.scatter(women_data[0], women_data[1], color='purple', alpha=1)\n",
        "plt.title('Altura x Peso de Mulheres Estadunidenses')\n",
        "plt.xlabel('Altura (cm)')\n",
        "plt.ylabel('Peso (kg)')\n",
        "plt.grid(True)\n",
        "plt.show()"
      ],
      "metadata": {
        "colab": {
          "base_uri": "https://localhost:8080/",
          "height": 564
        },
        "id": "08rDJgDwa9HD",
        "outputId": "424e40c4-55fa-4ca1-d085-e187ce0a310f"
      },
      "execution_count": null,
      "outputs": [
        {
          "output_type": "display_data",
          "data": {
            "text/plain": [
              "<Figure size 800x600 with 1 Axes>"
            ],
            "image/png": "[encoded data removed]"
          },
          "metadata": {}
        }
      ]
    },
    {
      "cell_type": "markdown",
      "source": [
        "# Desafio 3: Titanic (Marina Medeiros e Tsad Martins)\n",
        "\n",
        "\n",
        "## Questões:\n",
        "1. Quantas pessoas sobreviveram e quantas morreram?\n",
        "2. Quantas pessoas eram da primeira, segunda e terceira classe?\n",
        "3. Qual a porcentagem de sobreviventes na primeira classe?\n",
        "4. Qual a porcentagem de mortos da terceira classe?"
      ],
      "metadata": {
        "id": "cKGLw5GRQw7h"
      }
    },
    {
      "cell_type": "code",
      "source": [
        "titanic.info()"
      ],
      "metadata": {
        "colab": {
          "base_uri": "https://localhost:8080/"
        },
        "id": "eURJwi0LYZgd",
        "outputId": "2e989480-fe63-42d9-b5e5-b3b36c22731c"
      },
      "execution_count": null,
      "outputs": [
        {
          "output_type": "stream",
          "name": "stdout",
          "text": [
            "<class 'pandas.core.frame.DataFrame'>\n",
            "Int64Index: 1316 entries, 1 to 1316\n",
            "Data columns (total 4 columns):\n",
            " #   Column    Non-Null Count  Dtype \n",
            "---  ------    --------------  ----- \n",
            " 0   class     1316 non-null   object\n",
            " 1   age       1316 non-null   object\n",
            " 2   sex       1316 non-null   object\n",
            " 3   survived  1316 non-null   object\n",
            "dtypes: object(4)\n",
            "memory usage: 51.4+ KB\n"
          ]
        }
      ]
    },
    {
      "cell_type": "code",
      "source": [
        "titanic.shape"
      ],
      "metadata": {
        "id": "JBUPPsK-YhxU",
        "outputId": "fa2a0984-6486-4318-b931-19c8ada98a75",
        "colab": {
          "base_uri": "https://localhost:8080/"
        }
      },
      "execution_count": null,
      "outputs": [
        {
          "output_type": "execute_result",
          "data": {
            "text/plain": [
              "(1316, 4)"
            ]
          },
          "metadata": {},
          "execution_count": 6
        }
      ]
    },
    {
      "cell_type": "code",
      "source": [
        "titanic.head(3)"
      ],
      "metadata": {
        "id": "tcS6IMVuRIzB",
        "colab": {
          "base_uri": "https://localhost:8080/",
          "height": 143
        },
        "outputId": "0afe2d88-9dc3-4f2b-ac77-39ac1567fb0e"
      },
      "execution_count": null,
      "outputs": [
        {
          "output_type": "execute_result",
          "data": {
            "text/plain": [
              "       class     age  sex survived\n",
              "1  1st class  adults  man      yes\n",
              "2  1st class  adults  man      yes\n",
              "3  1st class  adults  man      yes"
            ],
            "text/html": [
              "\n",
              "  <div id=\"df-5575fb44-634d-4066-9a9f-494ed94e59cd\" class=\"colab-df-container\">\n",
              "    <div>\n",
              "<style scoped>\n",
              "    .dataframe tbody tr th:only-of-type {\n",
              "        vertical-align: middle;\n",
              "    }\n",
              "\n",
              "    .dataframe tbody tr th {\n",
              "        vertical-align: top;\n",
              "    }\n",
              "\n",
              "    .dataframe thead th {\n",
              "        text-align: right;\n",
              "    }\n",
              "</style>\n",
              "<table border=\"1\" class=\"dataframe\">\n",
              "  <thead>\n",
              "    <tr style=\"text-align: right;\">\n",
              "      <th></th>\n",
              "      <th>class</th>\n",
              "      <th>age</th>\n",
              "      <th>sex</th>\n",
              "      <th>survived</th>\n",
              "    </tr>\n",
              "  </thead>\n",
              "  <tbody>\n",
              "    <tr>\n",
              "      <th>1</th>\n",
              "      <td>1st class</td>\n",
              "      <td>adults</td>\n",
              "      <td>man</td>\n",
              "      <td>yes</td>\n",
              "    </tr>\n",
              "    <tr>\n",
              "      <th>2</th>\n",
              "      <td>1st class</td>\n",
              "      <td>adults</td>\n",
              "      <td>man</td>\n",
              "      <td>yes</td>\n",
              "    </tr>\n",
              "    <tr>\n",
              "      <th>3</th>\n",
              "      <td>1st class</td>\n",
              "      <td>adults</td>\n",
              "      <td>man</td>\n",
              "      <td>yes</td>\n",
              "    </tr>\n",
              "  </tbody>\n",
              "</table>\n",
              "</div>\n",
              "    <div class=\"colab-df-buttons\">\n",
              "\n",
              "  <div class=\"colab-df-container\">\n",
              "    <button class=\"colab-df-convert\" onclick=\"convertToInteractive('df-5575fb44-634d-4066-9a9f-494ed94e59cd')\"\n",
              "            title=\"Convert this dataframe to an interactive table.\"\n",
              "            style=\"display:none;\">\n",
              "\n",
              "  <svg xmlns=\"http://www.w3.org/2000/svg\" height=\"24px\" viewBox=\"0 -960 960 960\">\n",
              "    <path d=\"M120-120v-720h720v720H120Zm60-500h600v-160H180v160Zm220 220h160v-160H400v160Zm0 220h160v-160H400v160ZM180-400h160v-160H180v160Zm440 0h160v-160H620v160ZM180-180h160v-160H180v160Zm440 0h160v-160H620v160Z\"/>\n",
              "  </svg>\n",
              "    </button>\n",
              "\n",
              "  <style>\n",
              "    .colab-df-container {\n",
              "      display:flex;\n",
              "      gap: 12px;\n",
              "    }\n",
              "\n",
              "    .colab-df-convert {\n",
              "      background-color: #E8F0FE;\n",
              "      border: none;\n",
              "      border-radius: 50%;\n",
              "      cursor: pointer;\n",
              "      display: none;\n",
              "      fill: #1967D2;\n",
              "      height: 32px;\n",
              "      padding: 0 0 0 0;\n",
              "      width: 32px;\n",
              "    }\n",
              "\n",
              "    .colab-df-convert:hover {\n",
              "      background-color: #E2EBFA;\n",
              "      box-shadow: 0px 1px 2px rgba(60, 64, 67, 0.3), 0px 1px 3px 1px rgba(60, 64, 67, 0.15);\n",
              "      fill: #174EA6;\n",
              "    }\n",
              "\n",
              "    .colab-df-buttons div {\n",
              "      margin-bottom: 4px;\n",
              "    }\n",
              "\n",
              "    [theme=dark] .colab-df-convert {\n",
              "      background-color: #3B4455;\n",
              "      fill: #D2E3FC;\n",
              "    }\n",
              "\n",
              "    [theme=dark] .colab-df-convert:hover {\n",
              "      background-color: #434B5C;\n",
              "      box-shadow: 0px 1px 3px 1px rgba(0, 0, 0, 0.15);\n",
              "      filter: drop-shadow(0px 1px 2px rgba(0, 0, 0, 0.3));\n",
              "      fill: #FFFFFF;\n",
              "    }\n",
              "  </style>\n",
              "\n",
              "    <script>\n",
              "      const buttonEl =\n",
              "        document.querySelector('#df-5575fb44-634d-4066-9a9f-494ed94e59cd button.colab-df-convert');\n",
              "      buttonEl.style.display =\n",
              "        google.colab.kernel.accessAllowed ? 'block' : 'none';\n",
              "\n",
              "      async function convertToInteractive(key) {\n",
              "        const element = document.querySelector('#df-5575fb44-634d-4066-9a9f-494ed94e59cd');\n",
              "        const dataTable =\n",
              "          await google.colab.kernel.invokeFunction('convertToInteractive',\n",
              "                                                    [key], {});\n",
              "        if (!dataTable) return;\n",
              "\n",
              "        const docLinkHtml = 'Like what you see? Visit the ' +\n",
              "          '<a target=\"_blank\" href=https://colab.research.google.com/notebooks/data_table.ipynb>data table notebook</a>'\n",
              "          + ' to learn more about interactive tables.';\n",
              "        element.innerHTML = '';\n",
              "        dataTable['output_type'] = 'display_data';\n",
              "        await google.colab.output.renderOutput(dataTable, element);\n",
              "        const docLink = document.createElement('div');\n",
              "        docLink.innerHTML = docLinkHtml;\n",
              "        element.appendChild(docLink);\n",
              "      }\n",
              "    </script>\n",
              "  </div>\n",
              "\n",
              "\n",
              "<div id=\"df-090ee8a6-530f-44b0-b33d-e3da4c62870d\">\n",
              "  <button class=\"colab-df-quickchart\" onclick=\"quickchart('df-090ee8a6-530f-44b0-b33d-e3da4c62870d')\"\n",
              "            title=\"Suggest charts\"\n",
              "            style=\"display:none;\">\n",
              "\n",
              "<svg xmlns=\"http://www.w3.org/2000/svg\" height=\"24px\"viewBox=\"0 0 24 24\"\n",
              "     width=\"24px\">\n",
              "    <g>\n",
              "        <path d=\"M19 3H5c-1.1 0-2 .9-2 2v14c0 1.1.9 2 2 2h14c1.1 0 2-.9 2-2V5c0-1.1-.9-2-2-2zM9 17H7v-7h2v7zm4 0h-2V7h2v10zm4 0h-2v-4h2v4z\"/>\n",
              "    </g>\n",
              "</svg>\n",
              "  </button>\n",
              "\n",
              "<style>\n",
              "  .colab-df-quickchart {\n",
              "      --bg-color: #E8F0FE;\n",
              "      --fill-color: #1967D2;\n",
              "      --hover-bg-color: #E2EBFA;\n",
              "      --hover-fill-color: #174EA6;\n",
              "      --disabled-fill-color: #AAA;\n",
              "      --disabled-bg-color: #DDD;\n",
              "  }\n",
              "\n",
              "  [theme=dark] .colab-df-quickchart {\n",
              "      --bg-color: #3B4455;\n",
              "      --fill-color: #D2E3FC;\n",
              "      --hover-bg-color: #434B5C;\n",
              "      --hover-fill-color: #FFFFFF;\n",
              "      --disabled-bg-color: #3B4455;\n",
              "      --disabled-fill-color: #666;\n",
              "  }\n",
              "\n",
              "  .colab-df-quickchart {\n",
              "    background-color: var(--bg-color);\n",
              "    border: none;\n",
              "    border-radius: 50%;\n",
              "    cursor: pointer;\n",
              "    display: none;\n",
              "    fill: var(--fill-color);\n",
              "    height: 32px;\n",
              "    padding: 0;\n",
              "    width: 32px;\n",
              "  }\n",
              "\n",
              "  .colab-df-quickchart:hover {\n",
              "    background-color: var(--hover-bg-color);\n",
              "    box-shadow: 0 1px 2px rgba(60, 64, 67, 0.3), 0 1px 3px 1px rgba(60, 64, 67, 0.15);\n",
              "    fill: var(--button-hover-fill-color);\n",
              "  }\n",
              "\n",
              "  .colab-df-quickchart-complete:disabled,\n",
              "  .colab-df-quickchart-complete:disabled:hover {\n",
              "    background-color: var(--disabled-bg-color);\n",
              "    fill: var(--disabled-fill-color);\n",
              "    box-shadow: none;\n",
              "  }\n",
              "\n",
              "  .colab-df-spinner {\n",
              "    border: 2px solid var(--fill-color);\n",
              "    border-color: transparent;\n",
              "    border-bottom-color: var(--fill-color);\n",
              "    animation:\n",
              "      spin 1s steps(1) infinite;\n",
              "  }\n",
              "\n",
              "  @keyframes spin {\n",
              "    0% {\n",
              "      border-color: transparent;\n",
              "      border-bottom-color: var(--fill-color);\n",
              "      border-left-color: var(--fill-color);\n",
              "    }\n",
              "    20% {\n",
              "      border-color: transparent;\n",
              "      border-left-color: var(--fill-color);\n",
              "      border-top-color: var(--fill-color);\n",
              "    }\n",
              "    30% {\n",
              "      border-color: transparent;\n",
              "      border-left-color: var(--fill-color);\n",
              "      border-top-color: var(--fill-color);\n",
              "      border-right-color: var(--fill-color);\n",
              "    }\n",
              "    40% {\n",
              "      border-color: transparent;\n",
              "      border-right-color: var(--fill-color);\n",
              "      border-top-color: var(--fill-color);\n",
              "    }\n",
              "    60% {\n",
              "      border-color: transparent;\n",
              "      border-right-color: var(--fill-color);\n",
              "    }\n",
              "    80% {\n",
              "      border-color: transparent;\n",
              "      border-right-color: var(--fill-color);\n",
              "      border-bottom-color: var(--fill-color);\n",
              "    }\n",
              "    90% {\n",
              "      border-color: transparent;\n",
              "      border-bottom-color: var(--fill-color);\n",
              "    }\n",
              "  }\n",
              "</style>\n",
              "\n",
              "  <script>\n",
              "    async function quickchart(key) {\n",
              "      const quickchartButtonEl =\n",
              "        document.querySelector('#' + key + ' button');\n",
              "      quickchartButtonEl.disabled = true;  // To prevent multiple clicks.\n",
              "      quickchartButtonEl.classList.add('colab-df-spinner');\n",
              "      try {\n",
              "        const charts = await google.colab.kernel.invokeFunction(\n",
              "            'suggestCharts', [key], {});\n",
              "      } catch (error) {\n",
              "        console.error('Error during call to suggestCharts:', error);\n",
              "      }\n",
              "      quickchartButtonEl.classList.remove('colab-df-spinner');\n",
              "      quickchartButtonEl.classList.add('colab-df-quickchart-complete');\n",
              "    }\n",
              "    (() => {\n",
              "      let quickchartButtonEl =\n",
              "        document.querySelector('#df-090ee8a6-530f-44b0-b33d-e3da4c62870d button');\n",
              "      quickchartButtonEl.style.display =\n",
              "        google.colab.kernel.accessAllowed ? 'block' : 'none';\n",
              "    })();\n",
              "  </script>\n",
              "</div>\n",
              "\n",
              "    </div>\n",
              "  </div>\n"
            ]
          },
          "metadata": {},
          "execution_count": 7
        }
      ]
    },
    {
      "cell_type": "code",
      "source": [
        "#1 - Quantas pessoas sobreviveram e quantas morreram\n",
        "titanic['survived'].value_counts()\n",
        "\n",
        "y_survivors = titanic[titanic['survived'] == 'yes'].shape[0]\n",
        "n_dead = titanic[titanic['survived'] == 'no'].shape[0]\n",
        "\n",
        "print(f\"Pessoas sobreviventes: {y_survivors}\")\n",
        "print(f\"Pessoas que morreram: {n_dead}\")"
      ],
      "metadata": {
        "colab": {
          "base_uri": "https://localhost:8080/"
        },
        "id": "YWuJQeSvWYLb",
        "outputId": "a4fd1b67-7102-462c-a0da-6ffd79e71520"
      },
      "execution_count": null,
      "outputs": [
        {
          "output_type": "stream",
          "name": "stdout",
          "text": [
            "Pessoas sobreviventes: 499\n",
            "Pessoas que morreram: 817\n"
          ]
        }
      ]
    },
    {
      "cell_type": "code",
      "source": [
        "# 1 - Em percentual\n",
        "analise = round (titanic['survived'].value_counts(normalize = True) * 100, 3)\n",
        "analise"
      ],
      "metadata": {
        "colab": {
          "base_uri": "https://localhost:8080/"
        },
        "id": "nuHniDuzWYIv",
        "outputId": "3e881d17-fada-4121-c107-011cb2a920c1"
      },
      "execution_count": null,
      "outputs": [
        {
          "output_type": "execute_result",
          "data": {
            "text/plain": [
              "no     62.082\n",
              "yes    37.918\n",
              "Name: survived, dtype: float64"
            ]
          },
          "metadata": {},
          "execution_count": 9
        }
      ]
    },
    {
      "cell_type": "code",
      "source": [
        "#2 - Quantas pessoas eram da primeira, segunda e terceira classe?\n",
        "classe_counts  = titanic['class'].value_counts()\n",
        "\n",
        "print(f\"Primeira classe: {classe_counts['1st class']}\")\n",
        "print(f\"Segunda classe: {classe_counts['2nd class']}\")\n",
        "print(f\"Terceira classe: {classe_counts['3rd class']}\")"
      ],
      "metadata": {
        "colab": {
          "base_uri": "https://localhost:8080/"
        },
        "id": "4B52FgUrWYFz",
        "outputId": "3508190e-31f5-4b17-89bd-6e624c2cfc24"
      },
      "execution_count": null,
      "outputs": [
        {
          "output_type": "stream",
          "name": "stdout",
          "text": [
            "Primeira classe: 325\n",
            "Segunda classe: 285\n",
            "Terceira classe: 706\n"
          ]
        }
      ]
    },
    {
      "cell_type": "code",
      "source": [
        "#3 - Qual a porcentagem de sobreviventes na primeira classe?\n",
        "sobreviventes_por_classe = titanic[titanic['survived'] == 'yes'].groupby('class').size().reset_index(name='survivors')\n",
        "sobreviventes_1st_class = sobreviventes_por_classe.iloc[0,1]\n",
        "total_de_sobreviventes = sobreviventes_por_classe['survivors'].sum()\n",
        "porcentagem_sobreviventes_1stclass = round(sobreviventes_1st_class/total_de_sobreviventes *100, 1)\n",
        "print(\"A porcentagem de sobreviventes da primeira classe é de: {}%\".format(porcentagem_sobreviventes_1stclass))"
      ],
      "metadata": {
        "id": "AXbBdIpKWX5K",
        "colab": {
          "base_uri": "https://localhost:8080/"
        },
        "outputId": "dbc742ea-b222-447e-d9b8-af78ee06664f"
      },
      "execution_count": null,
      "outputs": [
        {
          "output_type": "stream",
          "name": "stdout",
          "text": [
            "A porcentagem de sobreviventes da primeira classe é de: 40.7%\n"
          ]
        }
      ]
    },
    {
      "cell_type": "code",
      "source": [
        "#4 - Qual a porcentagem de mortos da terceira classe?\n",
        "mortos_por_classe =  titanic[titanic['survived'] == 'no'].groupby('class').size().reset_index(name='deceased')\n",
        "total_de_mortos = mortos_por_classe['deceased'].sum()\n",
        "mortos_3rdclass = mortos_por_classe.iloc[2,1]\n",
        "porcentagem_mortos_3rdclass = round(mortos_3rdclass/total_de_mortos * 100, 1)\n",
        "print(\"A porcentagem de mortos da terceira classe é de: {}%\".format(porcentagem_mortos_3rdclass))"
      ],
      "metadata": {
        "id": "H9Iflk494umW",
        "colab": {
          "base_uri": "https://localhost:8080/"
        },
        "outputId": "9007a981-398b-4484-bc79-8c38113f0461"
      },
      "execution_count": null,
      "outputs": [
        {
          "output_type": "stream",
          "name": "stdout",
          "text": [
            "A porcentagem de mortos da terceira classe é de: 64.6%\n"
          ]
        }
      ]
    },
    {
      "cell_type": "markdown",
      "source": [
        "# Desafio 4 (Claudia Oliveira e Micaella Corrêa)"
      ],
      "metadata": {
        "id": "Qsp4dn-aQxUx"
      }
    },
    {
      "cell_type": "markdown",
      "source": [
        "Definição do problema: Dado que você está trabalhando numa emissora de televisão, o narrador precisa informar o jogo com o maior número de gols na história da Bundesliga (Campeonato Alemão). Você precisa fazer uma busca em todos os jogos da história deste campeonato e verificar qual jogo é esse e passar a iformação ao narrador, para posteriormente, o narrador informar aos telespectadores."
      ],
      "metadata": {
        "id": "YwVG39k0LDvC"
      }
    },
    {
      "cell_type": "markdown",
      "source": [
        "1. Verificar os jogos com maior quantidade de gols na história da Bundesliga\n",
        "2. Informar a data, os times participantes e o placar do jogo\n",
        "\n",
        "Código do dataset: Bundesliga\n",
        "\n",
        "Dicas: Criar uma nova variável \"TotalGols\" com o total de gols da partida; Use o método.max()"
      ],
      "metadata": {
        "id": "UgL83EbfLSxX"
      }
    },
    {
      "cell_type": "code",
      "source": [
        "bundesliga.info()"
      ],
      "metadata": {
        "id": "DuYEXfP4YJCB",
        "colab": {
          "base_uri": "https://localhost:8080/"
        },
        "outputId": "b9ebcae7-58e1-4cb2-b059-ff0354b4eb13"
      },
      "execution_count": null,
      "outputs": [
        {
          "output_type": "stream",
          "name": "stdout",
          "text": [
            "<class 'pandas.core.frame.DataFrame'>\n",
            "Int64Index: 14018 entries, 1 to 14018\n",
            "Data columns (total 7 columns):\n",
            " #   Column     Non-Null Count  Dtype \n",
            "---  ------     --------------  ----- \n",
            " 0   HomeTeam   14018 non-null  object\n",
            " 1   AwayTeam   14018 non-null  object\n",
            " 2   HomeGoals  14018 non-null  int64 \n",
            " 3   AwayGoals  14018 non-null  int64 \n",
            " 4   Round      14018 non-null  int64 \n",
            " 5   Year       14018 non-null  int64 \n",
            " 6   Date       14016 non-null  object\n",
            "dtypes: int64(4), object(3)\n",
            "memory usage: 876.1+ KB\n"
          ]
        }
      ]
    },
    {
      "cell_type": "code",
      "source": [
        "# criando a variável TotalGoals\n",
        "bundesliga['TotalGoals'] = bundesliga['HomeGoals'] + bundesliga['AwayGoals']\n",
        "\n",
        "# 1 Verificar os jogos com maior quantidade de gols na história da Bundesliga\n",
        "\n",
        "top_gols = bundesliga.groupby(['HomeTeam', 'AwayTeam', 'Date'])['TotalGoals'].max().reset_index()\n",
        "top_gols.sort_values('TotalGoals', ascending=False)\n",
        "\n",
        "# 2. Informar a data, os times participantes e o placar do jogo\n",
        "jogo_maior = bundesliga['TotalGoals'].max()\n",
        "jogo_maior\n",
        "\n",
        "jogos_maiores_gols = bundesliga.loc[bundesliga['TotalGoals'] == jogo_maior, ['HomeTeam', 'AwayTeam', 'Date', 'TotalGoals']]\n",
        "print (jogos_maiores_gols)"
      ],
      "metadata": {
        "id": "U71l57g6YI-x",
        "colab": {
          "base_uri": "https://localhost:8080/"
        },
        "outputId": "d35bcab6-ad79-45fe-c88f-7854f7ce1159"
      },
      "execution_count": null,
      "outputs": [
        {
          "output_type": "stream",
          "name": "stdout",
          "text": [
            "                       HomeTeam                AwayTeam  HomeGoals  AwayGoals  Round  Year  \\\n",
            "81            Borussia Dortmund    1. FC Kaiserslautern          9          3     11  1963   \n",
            "2456            Bayern Muenchen       Borussia Dortmund         11          1     16  1971   \n",
            "4052                1. FC Koeln  Tennis Borussia Berlin          8          4     23  1976   \n",
            "4457  Borussia Moenchengladbach       Borussia Dortmund         12          0     34  1977   \n",
            "5788          Borussia Dortmund       Arminia Bielefeld         11          1     12  1982   \n",
            "\n",
            "                     Date  TotalGoals  \n",
            "81    1963-11-16 09:30:00          12  \n",
            "2456  1971-11-27 09:30:00          12  \n",
            "4052  1977-02-26 09:30:00          12  \n",
            "4457  1978-04-29 09:30:00          12  \n",
            "5788  1982-11-06 09:30:00          12  \n"
          ]
        }
      ]
    },
    {
      "cell_type": "markdown",
      "source": [
        "# Desafio 5 (Marianne Soares e Eveline Teles)"
      ],
      "metadata": {
        "id": "3XtIdRPHQxpt"
      }
    },
    {
      "cell_type": "markdown",
      "source": [
        "Definição do problema: Você está trabalhando em um jornal e o\n",
        "editor quer que você responda as seguintes questões:\n",
        "\n",
        "1. Qual a empresa mais valiosa da lista da Forbes 2000?\n",
        "2. Construa uma tabela com as TOP 10 empresas mais lucrativas da\n",
        "lista.\n",
        "3. Qual a média de valores de empresa das cinco categorias mais\n",
        "valiosas?\n",
        "\n",
        "Código do dataset: Forbes2000\n",
        "Dicas:\n",
        "Método .max()\n",
        "Método nlargest()\n",
        "Método .groupby()\n"
      ],
      "metadata": {
        "id": "RtG775WF-J1s"
      }
    },
    {
      "cell_type": "code",
      "source": [
        "#1\n",
        "forbes = data('Forbes2000')\n",
        "\n",
        "valor_maximo = forbes['marketvalue'].max()\n",
        "mais_valiosa = forbes[forbes['marketvalue'] == valor_maximo]\n",
        "\n",
        "print(mais_valiosa)"
      ],
      "metadata": {
        "id": "Kku4DrQyRKSm",
        "colab": {
          "base_uri": "https://localhost:8080/"
        },
        "outputId": "8fe77acb-125f-41a5-bd2f-c0fcb79da774"
      },
      "execution_count": null,
      "outputs": [
        {
          "output_type": "stream",
          "name": "stdout",
          "text": [
            "   rank              name        country       category   sales  profits  assets  marketvalue\n",
            "2     2  General Electric  United States  Conglomerates  134.19    15.59  626.93       328.54\n"
          ]
        }
      ]
    },
    {
      "cell_type": "code",
      "source": [
        "#2\n",
        "top10_lucrativas = forbes.nlargest(10, 'profits')\n",
        "print(top10_lucrativas)\n"
      ],
      "metadata": {
        "id": "lvvsFQ0wYJcw",
        "colab": {
          "base_uri": "https://localhost:8080/"
        },
        "outputId": "c2d442e4-704a-41b3-b00a-7c2f49c39077"
      },
      "execution_count": null,
      "outputs": [
        {
          "output_type": "stream",
          "name": "stdout",
          "text": [
            "    rank              name         country                category   sales  profits   assets  \\\n",
            "4      4        ExxonMobil   United States    Oil & gas operations  222.88    20.96   166.99   \n",
            "1      1         Citigroup   United States                 Banking   94.71    17.85  1264.03   \n",
            "2      2  General Electric   United States           Conglomerates  134.19    15.59   626.93   \n",
            "6      6   Bank of America   United States                 Banking   49.01    10.81   736.45   \n",
            "5      5                BP  United Kingdom    Oil & gas operations  232.57    10.27   177.57   \n",
            "20    20       Freddie Mac   United States  Diversified financials   46.26    10.09   752.25   \n",
            "22    22      Altria Group   United States    Food drink & tobacco   60.70     9.20    96.18   \n",
            "10    10   Wal-Mart Stores   United States               Retailing  256.33     9.05   104.91   \n",
            "31    31         Microsoft   United States     Software & services   34.27     8.88    85.94   \n",
            "17    17             Total          France    Oil & gas operations  131.64     8.84    87.84   \n",
            "\n",
            "    marketvalue  \n",
            "4        277.02  \n",
            "1        255.30  \n",
            "2        328.54  \n",
            "6        117.55  \n",
            "5        173.54  \n",
            "20        44.25  \n",
            "22       111.02  \n",
            "10       243.74  \n",
            "31       287.02  \n",
            "17       116.64  \n"
          ]
        }
      ]
    },
    {
      "cell_type": "code",
      "source": [
        "#3\n",
        "categorias = forbes.groupby([\"category\"])[\"marketvalue\"].mean()\n",
        "top5_categorias = categorias.nlargest(5)\n",
        "\n",
        "print(top5_categorias)"
      ],
      "metadata": {
        "id": "ciiiUyWmYJZ5",
        "colab": {
          "base_uri": "https://localhost:8080/"
        },
        "outputId": "f4360448-b07d-4f6e-8677-7a24838a4114"
      },
      "execution_count": null,
      "outputs": [
        {
          "output_type": "stream",
          "name": "stdout",
          "text": [
            "category\n",
            "Drugs & biotechnology          39.200000\n",
            "Conglomerates                  25.874194\n",
            "Semiconductors                 23.911538\n",
            "Software & services            22.613226\n",
            "Telecommunications services    21.857015\n",
            "Name: marketvalue, dtype: float64\n"
          ]
        }
      ]
    }
  ]
}